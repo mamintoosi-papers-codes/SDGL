{
 "cells": [
  {
   "cell_type": "markdown",
   "metadata": {},
   "source": [
    "# SDGL GSL\n",
    "\n",
    "This repository provides the implementation of the paper  \" \" by Mahmood Amintoosi."
   ]
  },
  {
   "cell_type": "code",
   "execution_count": null,
   "metadata": {
    "colab": {
     "base_uri": "https://localhost:8080/"
    },
    "id": "ZWIcZmtofQw2",
    "outputId": "8992961e-05ca-4819-e605-09841d7daf40"
   },
   "outputs": [],
   "source": [
    "import os\n",
    "if 'google.colab' in str(get_ipython()) and not os.path.exists('/content/SDGL'):\n",
    "    !git clone https://github.com/mamintoosi-papers-codes/SDGL.git\n",
    "    !pip install -q torchmetrics\n",
    "    %cd SDGL"
   ]
  },
  {
   "cell_type": "code",
   "execution_count": null,
   "metadata": {},
   "outputs": [],
   "source": [
    "import os\n",
    "import sys\n",
    "os.chdir('SDGL/Pems4')\n",
    "sys.path.append('/content/SDGL')\n",
    "if not os.path.exists('./log'):\n",
    "    os.makedirs('./log')"
   ]
  },
  {
   "cell_type": "code",
   "execution_count": null,
   "metadata": {},
   "outputs": [],
   "source": [
    "%run train_pems.py --dataset PEMSD4 --use_dagma"
   ]
  },
  {
   "cell_type": "code",
   "execution_count": 6,
   "metadata": {
    "colab": {
     "base_uri": "https://localhost:8080/",
     "height": 17
    },
    "id": "Lb1UHp-O4jfu",
    "outputId": "cf05957d-5e2d-4f94-afe4-828ccbc0622b"
   },
   "outputs": [],
   "source": [
    "if 'google.colab' in str(get_ipython()): \n",
    "    from google.colab import files\n",
    "    # Zip the results folder\n",
    "    shutil.make_archive('results', 'zip', 'results')\n",
    "    # Download the zipped file\n",
    "    files.download('results.zip')"
   ]
  }
 ],
 "metadata": {
  "accelerator": "GPU",
  "colab": {
   "gpuType": "T4",
   "provenance": []
  },
  "kernelspec": {
   "display_name": "pth",
   "language": "python",
   "name": "python3"
  },
  "language_info": {
   "codemirror_mode": {
    "name": "ipython",
    "version": 3
   },
   "file_extension": ".py",
   "mimetype": "text/x-python",
   "name": "python",
   "nbconvert_exporter": "python",
   "pygments_lexer": "ipython3",
   "version": "3.10.14"
  }
 },
 "nbformat": 4,
 "nbformat_minor": 0
}
